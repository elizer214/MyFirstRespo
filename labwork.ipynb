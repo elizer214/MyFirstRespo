{
 "cells": [
  {
   "cell_type": "code",
   "execution_count": 3,
   "id": "fd9a172f-b7f4-4d2c-abf6-6346e6de7b22",
   "metadata": {},
   "outputs": [
    {
     "name": "stdout",
     "output_type": "stream",
     "text": [
      "james\n"
     ]
    }
   ],
   "source": [
    "print(\"james\")"
   ]
  },
  {
   "cell_type": "code",
   "execution_count": null,
   "id": "cd8f7edf-41df-4006-a77e-b042b3e8caf9",
   "metadata": {},
   "outputs": [],
   "source": []
  },
  {
   "cell_type": "markdown",
   "id": "57d9766a-eb28-41e6-8f03-348332c907db",
   "metadata": {},
   "source": [
    "# My First Markdown Heading\n"
   ]
  },
  {
   "cell_type": "code",
   "execution_count": 4,
   "id": "15c6153b-8ba8-4438-817d-835dd40ca324",
   "metadata": {},
   "outputs": [],
   "source": [
    "## My Second Markdown Heading"
   ]
  },
  {
   "cell_type": "markdown",
   "id": "f4c950cb-972e-41ea-8241-bdf328e82b29",
   "metadata": {},
   "source": [
    "## My Second Markdown Heading"
   ]
  },
  {
   "cell_type": "markdown",
   "id": "75aa90cd-2f28-4c23-89c5-c57c3ca5159a",
   "metadata": {},
   "source": [
    "**James**"
   ]
  },
  {
   "cell_type": "markdown",
   "id": "c5857eaa-f519-4ac9-aebe-90b8929b9ee3",
   "metadata": {},
   "source": [
    "1. First item\n",
    "2. Second item\n",
    "3. Third item"
   ]
  },
  {
   "cell_type": "code",
   "execution_count": null,
   "id": "1ebbaeae-1411-4278-b532-a261ac8405b3",
   "metadata": {},
   "outputs": [],
   "source": []
  },
  {
   "cell_type": "code",
   "execution_count": 5,
   "id": "fbd291d7-42a8-4f68-8302-2be7a448e8d0",
   "metadata": {},
   "outputs": [],
   "source": [
    "my_var = 5"
   ]
  },
  {
   "cell_type": "code",
   "execution_count": 7,
   "id": "875572dc-f98e-422c-81fc-b373116ff129",
   "metadata": {},
   "outputs": [
    {
     "name": "stdout",
     "output_type": "stream",
     "text": [
      "10\n"
     ]
    }
   ],
   "source": [
    "result = my_var * 2\n",
    "print(result)"
   ]
  },
  {
   "cell_type": "code",
   "execution_count": null,
   "id": "8cccba23-5a60-48a9-89eb-cea95eeb1438",
   "metadata": {},
   "outputs": [],
   "source": []
  }
 ],
 "metadata": {
  "kernelspec": {
   "display_name": "Python 3 (ipykernel)",
   "language": "python",
   "name": "python3"
  },
  "language_info": {
   "codemirror_mode": {
    "name": "ipython",
    "version": 3
   },
   "file_extension": ".py",
   "mimetype": "text/x-python",
   "name": "python",
   "nbconvert_exporter": "python",
   "pygments_lexer": "ipython3",
   "version": "3.10.9"
  }
 },
 "nbformat": 4,
 "nbformat_minor": 5
}
